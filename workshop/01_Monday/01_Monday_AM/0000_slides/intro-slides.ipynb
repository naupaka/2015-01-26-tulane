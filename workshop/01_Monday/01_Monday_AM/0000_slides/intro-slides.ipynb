{
 "metadata": {
  "celltoolbar": "Slideshow",
  "name": "",
  "signature": "sha256:04f949bf177736210cb0f6d794bc1b872a14681b1ad00c6d7b3406764a60916f"
 },
 "nbformat": 3,
 "nbformat_minor": 0,
 "worksheets": [
  {
   "cells": [
    {
     "cell_type": "markdown",
     "metadata": {
      "slideshow": {
       "slide_type": "slide"
      }
     },
     "source": [
      "<div align=\"center\"><font size=\"26\">Hello and welcome to</font></div>\n",
      "<div align=\"center\"><img src=\"http://www.software.ac.uk/sites/default/files/images/content/SoftwareCarpenty_logo.jpg\" width=\"40%\" height=\"35%\"/></div>\n",
      "<div align=\"center\"><font size=\"36\">@ </font></div>\n",
      "<br>\n",
      "<div align=\"center\"><img src=\"https://www.dignityhealth.org/stjosephs/Assets/Logos/d6f911df-0e7c-4b41-9d8b-efc876be485d.jpg\" width=\"50%\" height=\"50%\"/></div>"
     ]
    },
    {
     "cell_type": "markdown",
     "metadata": {
      "slideshow": {
       "slide_type": "slide"
      }
     },
     "source": [
      "### Software Carpentry's goal is to make scientists and engineering more productive by teaching them basic computing skills.\n",
      "\n",
      "* Founded in 1997.\n",
      "\n",
      "* About 100 volunteers who ran almost 100 two-day workshop in 2013 alone.\n",
      "\n",
      "* All Material is open access. Please freely share, re-use, modify (just mention SWC as original source).\n",
      "\n",
      "* Supported by the Alfred P. Sloan Foundation and the Mozilla Foundation.\n",
      "\n",
      "<img src=\"https://raw.github.com/bernhardkonrad/2014-06-16-Davis/gh-pages/slides/SWCprev.png\" width=\"60%\" height=\"25%\"/>"
     ]
    },
    {
     "cell_type": "markdown",
     "metadata": {
      "slideshow": {
       "slide_type": "slide"
      }
     },
     "source": [
      "## Problem\n",
      "\n",
      "Surveyed almost two thousand scientists in 2008:\n",
      "\n",
      "* How do you use a computer?\n",
      "* How did you learn what you know?"
     ]
    },
    {
     "cell_type": "markdown",
     "metadata": {
      "slideshow": {
       "slide_type": "fragment"
      }
     },
     "source": [
      "## Answers\n",
      "\n",
      "* On average they spend 40% of their time building or using software.\n",
      "* More than half say this number is increasing.\n",
      "* **96%** say that what they know is **mostly self-taught**."
     ]
    },
    {
     "cell_type": "markdown",
     "metadata": {
      "slideshow": {
       "slide_type": "subslide"
      }
     },
     "source": [
      "## What Software Carpentry does\n",
      "\n",
      "Runs two full days of instruction on\n",
      "\n",
      "* The unix shell,\n",
      "* Git and GitHub,\n",
      "* Python or R.\n",
      "\n",
      "in order to show scientists how to\n",
      "\n",
      "* automate repetitive tasks,\n",
      "* track and share their work,\n",
      "* build programs in a modular, testable, and reusable way."
     ]
    },
    {
     "cell_type": "markdown",
     "metadata": {
      "slideshow": {
       "slide_type": "slide"
      }
     },
     "source": [
      "<div align=\"center\">\n",
      "## A place for everything and everything in its place.\n",
      "<br />\n",
      "<img src=\"http://images.fineartamerica.com/images-medium-large/a-place-for-everything-and-everything-in-its-place-andrew-armstrong.jpg\" width=\"50%\"></div><br />"
     ]
    },
    {
     "cell_type": "markdown",
     "metadata": {
      "slideshow": {
       "slide_type": "subslide"
      }
     },
     "source": [
      "## It's just pure functionality\n",
      "\n",
      "<blockquote>I mean, there\u2019s so much s*** in here; all of it\u2019s used, otherwise it wouldn\u2019t be in here, and you have to keep track of it. \n",
      "<br /><br />So every minute that I spend looking for, like, velcro tape, or my drill gun, is a minute I\u2019m not doing something productive so why not build an infrastructure that supports that rather than encourages the chaos. </blockquote> - Casey Neistat "
     ]
    },
    {
     "cell_type": "markdown",
     "metadata": {
      "slideshow": {
       "slide_type": "subslide"
      }
     },
     "source": [
      "### Write code for humans, write data for computers\n",
      "\n",
      "<blockquote>\"Let us change our traditional attitude to the construction of programs: Instead of imagining that our main task is to instruct a computer what to do, let us concentrate rather on explaining to humans what we want the computer to do.\"</blockquote> - Donald Knuth"
     ]
    },
    {
     "cell_type": "markdown",
     "metadata": {
      "slideshow": {
       "slide_type": "subslide"
      }
     },
     "source": [
      "### Typing\n",
      "\n",
      "* Typos matter\n",
      "* cAsE maTTerS\n",
      "* *th.is* is different from *th-is*\n",
      "* spaces in the names are evil\n",
      "\n",
      "Tab completion is your friend!\n",
      "\n",
      "### Better algorithms beat better hardware\n",
      "\n",
      "### The source code is real\n",
      "\n",
      "The objects are realizations of the source code."
     ]
    },
    {
     "cell_type": "markdown",
     "metadata": {
      "slideshow": {
       "slide_type": "slide"
      }
     },
     "source": [
      "##Housekeeping"
     ]
    },
    {
     "cell_type": "markdown",
     "metadata": {
      "slideshow": {
       "slide_type": "subslide"
      }
     },
     "source": [
      "###Today's topics\n",
      "\n",
      "* Intro to R and RStudio\n",
      "* Reading data into R\n",
      "* Writing functions in R\n",
      "* Using the shell and writing scripts"
     ]
    },
    {
     "cell_type": "markdown",
     "metadata": {
      "slideshow": {
       "slide_type": "subslide"
      }
     },
     "source": [
      "###Sticky Notes\n",
      "\n",
      "Easy visual feedback for instructors.\n",
      "\n",
      "* <font color=\"red\">If you are lost, confused, or need help, put the red sticky up on your laptop.</font>\n",
      "* <font color=\"green\">If all is well, put up the green sticky.</font>\n",
      "\n",
      "*Please asks questions immediately. Don't fall behind.*\n",
      "\n",
      "**Stickies also double as feedback form.**"
     ]
    },
    {
     "cell_type": "markdown",
     "metadata": {
      "slideshow": {
       "slide_type": "subslide"
      }
     },
     "source": [
      "### Etherpad\n",
      "\n",
      "<a href=\"https://etherpad.mozilla.org/2014-09-27-ASU\">Click.</a>\n",
      "\n",
      "* Easy to share code and useful links.\n",
      "* Share notes with everyone\n",
      "* Ask questions."
     ]
    },
    {
     "cell_type": "markdown",
     "metadata": {
      "slideshow": {
       "slide_type": "subslide"
      }
     },
     "source": [
      "###Tools\n",
      "\n",
      "Things you want to have open:\n",
      "\n",
      "* Bootcamp etherpad\n",
      "* Note-taking device (optional, all material is freely available online)\n",
      "\n",
      "<img src=\"http://rebeccaberto.files.wordpress.com/2012/07/twitter-bird.jpg\" width=\"10%\" height=\"10%\"/> If you're on twitter, tweet at @swcarpentry or use the hashtag #swcstjoe\n",
      "\n",
      "We're @naupakaz and @jstroot"
     ]
    },
    {
     "cell_type": "code",
     "collapsed": false,
     "input": [],
     "language": "python",
     "metadata": {
      "slideshow": {
       "slide_type": "skip"
      }
     },
     "outputs": [],
     "prompt_number": 0
    }
   ],
   "metadata": {}
  }
 ]
}